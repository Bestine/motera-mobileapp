{
 "cells": [
  {
   "cell_type": "markdown",
   "id": "f3150b51",
   "metadata": {},
   "source": [
    "![](images/cover-page.png)\n",
    "\n",
    "# Python \n",
    "Python is a versatile, high-level programming language known for its simplicity and readability, widely used in web development, data analysis, automation, and more"
   ]
  },
  {
   "cell_type": "markdown",
   "id": "99a08be8",
   "metadata": {},
   "source": [
    "## 1. Why Learn Python?\n",
    "Python is one of the most popular programming languages in the world, and here's why you should consider learning it:\n",
    "\n",
    "- **Easy to learn:** Python’s syntax is simple and readable, making it a great choice for beginners.\n",
    "- **Versatile:** Python is used in many fields—data analysis, web development, machine learning, automation, and more!\n",
    "- **Growing demand:** Python skills are highly sought after in the job market, from tech companies to startups.\n",
    "- **Great community:** You'll find a wealth of resources and support online as the Python community is vast and active."
   ]
  },
  {
   "cell_type": "markdown",
   "id": "372d1a91",
   "metadata": {},
   "source": [
    "## 2. What Can Python Do? \n",
    "\n",
    "Python can do a lot! Here are just a few examples:\n",
    "\n",
    "- **Data Analysis:** 'Crunch numbers', analyze trends, and visualize data.\n",
    "- **Web Development:** Build websites with frameworks like Django or Flask.\n",
    "- **Automation:** Write scripts to automate repetitive tasks.\n",
    "- **Machine Learning & AI:** Create intelligent systems that learn from data.\n",
    "- **Scripting & Software Development:** Develop applications from simple tools to complex systems."
   ]
  },
  {
   "cell_type": "markdown",
   "id": "336aa1bc",
   "metadata": {},
   "source": [
    "## 3. Installation of Python and necessary toolkits\n",
    "\n",
    "Before we start coding, we need to set up your environment. Follow these steps to install Python and its essential tools:\n",
    "\n",
    "1. **Install Python:**\n",
    "\n",
    "- Go to Python’s official website.You can find it [here](http://python.org/)\n",
    "- Download the latest version for your operating system.\n",
    "- Run the installer and make sure to check the box that says “Add Python to PATH.”\n",
    "\n",
    "2. **Install a Code Editor:**\n",
    "\n",
    "For this course, we recommend **VS Code** and **Jupyter Notebook**.\n",
    "VS Code: Download from [here](https://code.visualstudio.com/). *Remember to install python extension to run python*\n",
    "\n",
    "Jupyter Notebook: You can install it by typing `pip install notebook` in your terminal or command prompt. Alternatively, it can be installed by `pip3 install jupyter`"
   ]
  },
  {
   "cell_type": "markdown",
   "id": "da6e591d",
   "metadata": {},
   "source": [
    "<span style=\"color: green;\">**Practical exercise**</span>\n",
    "\n",
    "Lets install python and its toolkit\n",
    "\n",
    "- install python (windows, Mac and Linux)\n",
    "- install vs code. Will be used to discuss python fundamentals\n",
    "- finally install `jupyter notebook`"
   ]
  },
  {
   "cell_type": "markdown",
   "id": "ac02e5f5",
   "metadata": {},
   "source": [
    "Write our first `\"Hello World program\"`"
   ]
  },
  {
   "cell_type": "markdown",
   "id": "5b1ecac4",
   "metadata": {},
   "source": [
    "## <span style=\"color: #00008B;\">First Python Program</span> "
   ]
  },
  {
   "cell_type": "markdown",
   "id": "85d8cf44",
   "metadata": {},
   "source": [
    "Let’s dive into some basic but super important Python features: the `print()` statement and comments. Ready? Let's go!\n",
    "\n",
    "**What is the print() statement?**\n",
    "\n",
    "The `print()` statement is how you tell Python to display something on the screen. It’s the simplest way to interact with your code—kind of like telling Python, “Hey, show me this!”\n",
    "\n",
    "Here's an example:"
   ]
  },
  {
   "cell_type": "code",
   "execution_count": 4,
   "id": "77a223e4",
   "metadata": {},
   "outputs": [
    {
     "name": "stdout",
     "output_type": "stream",
     "text": [
      "Hello, world!\n"
     ]
    }
   ],
   "source": [
    "print(\"Hello, world!\")"
   ]
  },
  {
   "cell_type": "markdown",
   "id": "348d7afc",
   "metadata": {},
   "source": [
    "<span style=\"color: orange;\">**Try it out:**</span> Open your Python environment and type this in! What will you print to the screen? Maybe your name or a fun fact about yourself?"
   ]
  },
  {
   "cell_type": "code",
   "execution_count": 5,
   "id": "c9b406b0",
   "metadata": {},
   "outputs": [
    {
     "name": "stdout",
     "output_type": "stream",
     "text": [
      "Hello Mustafa!\n"
     ]
    }
   ],
   "source": [
    "print(\"Hello Mustafa!\")"
   ]
  },
  {
   "cell_type": "markdown",
   "id": "74c82e4f",
   "metadata": {},
   "source": [
    "**Comments**\n",
    "\n",
    "Comments are lines in your code that Python ignores when running your program. They’re super useful for explaining what your code does (and leaving little notes for your future self or others!).\n",
    "\n",
    "In Python, comments start with a `#` symbol. Like this:"
   ]
  },
  {
   "cell_type": "code",
   "execution_count": 7,
   "id": "ef5fab81",
   "metadata": {},
   "outputs": [],
   "source": [
    "# This is a comment and won't be executed"
   ]
  },
  {
   "cell_type": "markdown",
   "id": "b39063ca",
   "metadata": {},
   "source": [
    "You see! There are no results. Python ignored it Lets try integrating comments with other lines of code"
   ]
  },
  {
   "cell_type": "code",
   "execution_count": 8,
   "id": "2279ca68",
   "metadata": {},
   "outputs": [
    {
     "name": "stdout",
     "output_type": "stream",
     "text": [
      "Python is fun!\n"
     ]
    }
   ],
   "source": [
    "# This is a comment and won't be executed\n",
    "print(\"Python is fun!\")  # This prints a message"
   ]
  },
  {
   "cell_type": "markdown",
   "id": "14da646e",
   "metadata": {},
   "source": [
    "**Notice the position of the `#` sign**\n",
    "\n",
    "Comments are used to remind yourself why you wrote a certain line of code or to disable certain parts of your code temporarily."
   ]
  },
  {
   "cell_type": "markdown",
   "id": "64c4e562",
   "metadata": {},
   "source": [
    "<span style=\"color: green;\">**Practical exercise**</span>\n",
    "\n",
    " Write a small program that prints your name and includes a comment describing what the code does. For example:"
   ]
  },
  {
   "cell_type": "markdown",
   "id": "e9f706c1",
   "metadata": {},
   "source": [
    "## <span style=\"color: #00008B;\">The Building Blocks of Python 🧱</span> "
   ]
  },
  {
   "cell_type": "markdown",
   "id": "b5b55b1c",
   "metadata": {},
   "source": [
    "Now that you've mastered printing and commenting, let’s learn about Python data types and operators. These are the fundamental tools you'll use to work with data in Python. Thats why the ya referred to as the **Building Blocks!**"
   ]
  },
  {
   "cell_type": "markdown",
   "id": "9dbc0b5f",
   "metadata": {},
   "source": [
    "### <span style=\"color: #00008B;\">Basic Data Types</span> "
   ]
  },
  {
   "cell_type": "markdown",
   "id": "5f89d508",
   "metadata": {},
   "source": [
    "1. **Strings `(str)`:** Think of strings as text—anything inside quotes is a string."
   ]
  },
  {
   "cell_type": "code",
   "execution_count": 11,
   "id": "e6be9702",
   "metadata": {},
   "outputs": [],
   "source": [
    "name = 'Mustafa'\n",
    "greeting = \"Hello, World!\""
   ]
  },
  {
   "cell_type": "markdown",
   "id": "ab9fe57c",
   "metadata": {},
   "source": [
    "Strings can be inside single quotation marks(`''`) or double quotation marks(`\"\"`). \n",
    "\n",
    "<span style=\"color: orange;\">**Try it:**</span> : Write your own string and print it! What's your favorite quote or phrase?"
   ]
  },
  {
   "cell_type": "markdown",
   "id": "c75a3996",
   "metadata": {},
   "source": [
    "2. **Integers `(int)`:** Whole numbers, no decimal point."
   ]
  },
  {
   "cell_type": "code",
   "execution_count": 12,
   "id": "7d02265b",
   "metadata": {},
   "outputs": [],
   "source": [
    "age = 25\n",
    "apples = 5"
   ]
  },
  {
   "cell_type": "markdown",
   "id": "70c54ab5",
   "metadata": {},
   "source": [
    "<span style=\"color: orange;\">**Try it:**</span> : Declare an integer and use print() to display it. \n",
    "\n",
    "3. **Float `(float)`:** Numbers with a decimal point."
   ]
  },
  {
   "cell_type": "code",
   "execution_count": 13,
   "id": "b69f8068",
   "metadata": {},
   "outputs": [],
   "source": [
    "price = 19.99\n",
    "weight = 72.5"
   ]
  },
  {
   "cell_type": "markdown",
   "id": "96cfdf37",
   "metadata": {},
   "source": [
    "<span style=\"color: orange;\">**Try it:**</span> : Store and print a float.\n",
    "\n",
    "4. **Booleans (bool):** Only `True` or `False`. Booleans are used in logical comparisons.\n"
   ]
  },
  {
   "cell_type": "code",
   "execution_count": 14,
   "id": "c473ae94",
   "metadata": {},
   "outputs": [],
   "source": [
    "is_student = True\n",
    "is_sunny = False"
   ]
  },
  {
   "cell_type": "markdown",
   "id": "a2c5e76a",
   "metadata": {},
   "source": [
    "<span style=\"color: orange;\">**Try it:**</span> :Create your own boolean variable and print it. Is today a weekday? 😄\n",
    "\n",
    "### <span style=\"color: #00008B;\">Operators</span> "
   ]
  },
  {
   "cell_type": "markdown",
   "id": "e203bcf0",
   "metadata": {},
   "source": [
    "Operators allow you to manipulate and compare data. Let’s break it down:\n",
    "\n",
    "1. **Arithmetic Operators:** These let you perform calculations with numbers.\n",
    "\n",
    "- `+` (Addition): `5 + 3 → 8`\n",
    "- `-` (Subtraction): `10 - 6 → 4`\n",
    "- `*` (Multiplication): `4 * 2 → 8`\n",
    "- `/` (Division): `15 / 3 → 5.0`\n",
    "- `**` (Exponentiation): `2 ** 3 → 8` (2 raised to the power of 3)\n",
    "\n",
    "\n",
    "<span style=\"color: green;\">**Practical Activity**</span> \n",
    "\n",
    "Try adding, subtracting, multiplying, and dividing numbers! For example:"
   ]
  },
  {
   "cell_type": "code",
   "execution_count": 16,
   "id": "621423bd",
   "metadata": {},
   "outputs": [
    {
     "name": "stdout",
     "output_type": "stream",
     "text": [
      "15\n",
      "4.5\n"
     ]
    }
   ],
   "source": [
    "print(10 + 5)  # Add numbers\n",
    "print(9 / 2)   # Divide numbers"
   ]
  },
  {
   "cell_type": "markdown",
   "id": "c3466375",
   "metadata": {},
   "source": [
    "2. **Comparison Operators:** These compare values and return True or False.\n",
    "\n",
    "- `==` (Equal to): `5 == 5 → True`\n",
    "- `!=` (Not equal to): `3 != 4 → True`\n",
    "- `>` (Greater than): `7 > 2 → True`\n",
    "- `<` (Less than): `3 < 5 → True`\n",
    "\n",
    "<span style=\"color: green;\">**Practical Activity**</span>  \n",
    "\n",
    "Use comparison operators to check if your age is greater than a number or if a price is equal to what you expect. Example:"
   ]
  },
  {
   "cell_type": "code",
   "execution_count": 17,
   "id": "9d2b43b3",
   "metadata": {},
   "outputs": [
    {
     "name": "stdout",
     "output_type": "stream",
     "text": [
      "True\n",
      "True\n"
     ]
    }
   ],
   "source": [
    "print(10 > 5)   # Is 10 greater than 5?\n",
    "print(5 == 5)   # Is 5 equal to 5?"
   ]
  },
  {
   "cell_type": "markdown",
   "id": "d37edaeb",
   "metadata": {},
   "source": [
    "3. **Logical Operators:** These are used with booleans (`True` or `False`) to make more complex conditions.\n",
    "\n",
    "- `and`: Both conditions must be `True`.\n",
    "- `or`: At least one condition must be `True`.\n",
    "- `not`: Reverses the boolean value.\n",
    "\n",
    "**Example:**"
   ]
  },
  {
   "cell_type": "code",
   "execution_count": 19,
   "id": "ad116504",
   "metadata": {},
   "outputs": [
    {
     "name": "stdout",
     "output_type": "stream",
     "text": [
      "False\n",
      "True\n"
     ]
    }
   ],
   "source": [
    "is_raining = False\n",
    "is_sunny = True\n",
    "print(is_raining and is_sunny)  # Both must be true\n",
    "print(is_raining or is_sunny)   # At least one is true"
   ]
  }
 ],
 "metadata": {
  "kernelspec": {
   "display_name": "Python 3 (ipykernel)",
   "language": "python",
   "name": "python3"
  },
  "language_info": {
   "codemirror_mode": {
    "name": "ipython",
    "version": 3
   },
   "file_extension": ".py",
   "mimetype": "text/x-python",
   "name": "python",
   "nbconvert_exporter": "python",
   "pygments_lexer": "ipython3",
   "version": "3.11.5"
  }
 },
 "nbformat": 4,
 "nbformat_minor": 5
}
